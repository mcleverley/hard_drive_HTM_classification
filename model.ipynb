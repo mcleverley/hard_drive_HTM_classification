{
 "cells": [
  {
   "cell_type": "markdown",
   "metadata": {
    "toc": true
   },
   "source": [
    "<h1>Table of Contents<span class=\"tocSkip\"></span></h1>\n",
    "<div class=\"toc\"><ul class=\"toc-item\"><li><span><a href=\"#encoders-needed:\" data-toc-modified-id=\"encoders-needed:-1\"><span class=\"toc-item-num\">1&nbsp;&nbsp;</span>encoders needed:</a></span><ul class=\"toc-item\"><li><span><a href=\"#optional-strat:-drop-non-normalized-SMART-stats-and-try-again-(if-runtime-too-long),-since-we're-sort-of...-double-encoding,-almost\" data-toc-modified-id=\"optional-strat:-drop-non-normalized-SMART-stats-and-try-again-(if-runtime-too-long),-since-we're-sort-of...-double-encoding,-almost-1.1\"><span class=\"toc-item-num\">1.1&nbsp;&nbsp;</span>optional strat: drop non-normalized SMART stats and try again (if runtime too long), since we're sort of... double encoding, almost</a></span></li></ul></li></ul></div>"
   ]
  },
  {
   "cell_type": "code",
   "execution_count": 1,
   "metadata": {},
   "outputs": [],
   "source": [
    "import csv\n",
    "import datetime\n",
    "import os\n",
    "import numpy as np\n",
    "import random\n",
    "import math\n",
    "import pandas as pd\n",
    "import seaborn as sns\n",
    "import matplotlib.pyplot as plt\n",
    "import datetime\n",
    "from tqdm import tqdm\n",
    "\n",
    "from htm.bindings.sdr import SDR, Metrics\n",
    "from htm.encoders.rdse import RDSE, RDSE_Parameters\n",
    "from htm.encoders.date import DateEncoder\n",
    "from htm.bindings.algorithms import SpatialPooler\n",
    "from htm.bindings.algorithms import TemporalMemory\n",
    "from htm.algorithms.anomaly_likelihood import AnomalyLikelihood #FIXME use TM.anomaly instead, but it gives worse results than the py.AnomalyLikelihood now\n",
    "from htm.bindings.algorithms import Predictor"
   ]
  },
  {
   "cell_type": "code",
   "execution_count": 8,
   "metadata": {},
   "outputs": [],
   "source": [
    "df = pd.read_csv('hard_disks.csv', \n",
    "#                  index_col=0\n",
    "                )\n",
    "df = df.drop(columns=['Unnamed: 0'])"
   ]
  },
  {
   "cell_type": "code",
   "execution_count": 4,
   "metadata": {},
   "outputs": [
    {
     "data": {
      "text/plain": [
       "62"
      ]
     },
     "execution_count": 4,
     "metadata": {},
     "output_type": "execute_result"
    }
   ],
   "source": [
    "len(df.columns)"
   ]
  },
  {
   "cell_type": "markdown",
   "metadata": {},
   "source": [
    "# parameters\n",
    "## encoder size\n",
    "encoder 'size' can be small since we're running 62 columns"
   ]
  },
  {
   "cell_type": "code",
   "execution_count": null,
   "metadata": {},
   "outputs": [],
   "source": [
    "parameters = {\n",
    "  # there are 2 (3) encoders: \"value\" (RDSE) & \"time\" (DateTime weekend, timeOfDay)\n",
    " 'enc': {\n",
    "      \"value\" :\n",
    "         {'resolution': 0.88, 'size': 800, 'sparsity': 0.02},\n",
    "      \"time\": \n",
    "         {'timeOfDay': (30, 1), 'weekend': 21}\n",
    " },\n",
    " 'predictor': {'sdrc_alpha': 0.1},\n",
    " 'sp': {'boostStrength': 3.0,\n",
    "        'columnCount': 3200, # tweak this a little\n",
    "        'localAreaDensity': 0.04395604395604396,\n",
    "        'potentialPct': 0.85,\n",
    "        'synPermActiveInc': 0.04,\n",
    "        'synPermConnected': 0.13999999999999999,\n",
    "        'synPermInactiveDec': 0.006},\n",
    " 'tm': {'activationThreshold': 17,\n",
    "        'cellsPerColumn': 20,\n",
    "        'initialPerm': 0.21,\n",
    "        'maxSegmentsPerCell': 128,\n",
    "        'maxSynapsesPerSegment': 64,\n",
    "        'minThreshold': 10,\n",
    "        'newSynapseCount': 32,\n",
    "        'permanenceDec': 0.1,\n",
    "        'permanenceInc': 0.1},\n",
    " 'anomaly': {\n",
    "   'likelihood': \n",
    "       {#'learningPeriod': int(math.floor(self.probationaryPeriod / 2.0)),\n",
    "        #'probationaryPeriod': self.probationaryPeriod-default_parameters[\"anomaly\"][\"likelihood\"][\"learningPeriod\"],\n",
    "        'probationaryPct': 0.1,\n",
    "        'reestimationPeriod': 100} #These settings are copied from NAB\n",
    " }\n",
    "}"
   ]
  },
  {
   "cell_type": "code",
   "execution_count": 14,
   "metadata": {},
   "outputs": [
    {
     "data": {
      "text/plain": [
       "Index(['date', 'serial_number', 'model', 'capacity_bytes', 'failure',\n",
       "       'smart_1_normalized', 'smart_1_raw', 'smart_2_normalized',\n",
       "       'smart_2_raw', 'smart_3_normalized', 'smart_3_raw',\n",
       "       'smart_4_normalized', 'smart_4_raw', 'smart_5_normalized',\n",
       "       'smart_5_raw', 'smart_7_normalized', 'smart_7_raw',\n",
       "       'smart_8_normalized', 'smart_8_raw', 'smart_9_normalized',\n",
       "       'smart_9_raw', 'smart_10_normalized', 'smart_10_raw',\n",
       "       'smart_12_normalized', 'smart_12_raw', 'smart_184_normalized',\n",
       "       'smart_184_raw', 'smart_187_normalized', 'smart_187_raw',\n",
       "       'smart_188_normalized', 'smart_188_raw', 'smart_189_normalized',\n",
       "       'smart_189_raw', 'smart_190_normalized', 'smart_190_raw',\n",
       "       'smart_191_normalized', 'smart_191_raw', 'smart_192_normalized',\n",
       "       'smart_192_raw', 'smart_193_normalized', 'smart_193_raw',\n",
       "       'smart_194_normalized', 'smart_194_raw', 'smart_195_normalized',\n",
       "       'smart_195_raw', 'smart_196_normalized', 'smart_196_raw',\n",
       "       'smart_197_normalized', 'smart_197_raw', 'smart_198_normalized',\n",
       "       'smart_198_raw', 'smart_199_normalized', 'smart_199_raw',\n",
       "       'smart_200_normalized', 'smart_200_raw', 'smart_240_normalized',\n",
       "       'smart_240_raw', 'smart_241_normalized', 'smart_241_raw',\n",
       "       'smart_242_normalized', 'smart_242_raw'],\n",
       "      dtype='object')"
      ]
     },
     "execution_count": 14,
     "metadata": {},
     "output_type": "execute_result"
    }
   ],
   "source": [
    "df.columns"
   ]
  },
  {
   "cell_type": "markdown",
   "metadata": {},
   "source": [
    "## encoders needed:\n",
    "- dateTime encoder to understand temporal sequence element\n",
    "- category encoder...? for the model\n",
    "    - could just convert each model to a number\n",
    "    - maybe RDSE does this for us, we'll see\n",
    "- scalar for capacity_bytes\n",
    "- one-bit encoder for 'failure' tacked on at the end, maybe.\n",
    "- SMART stat encoder\n",
    "\n",
    "### optional strat: drop non-normalized SMART stats and try again (if runtime too long), since we're sort of... double encoding, almost"
   ]
  },
  {
   "cell_type": "code",
   "execution_count": null,
   "metadata": {},
   "outputs": [],
   "source": [
    "date_enc = DateEncoder(timeOfDay=(30,1), weekend=21) # less work is done on weekends\n",
    "# predict 'weekday vs weekend' HD consumption use to predict impending failure...?\n",
    "# maybe unnecessary, we'll see\n",
    "\n",
    "# SMART encoder\n",
    "stat_params = RDSE_Parameters()\n",
    "stat_params.size = 30 # this number is the one i'll be changing around the most\n",
    "stat_params.sparsity = 0.02 # the magic number\n",
    "stat_params.resolution = 0.88 \n",
    "stat_encoder = RDSE(stat_params) # create encoder\n",
    "\n"
   ]
  },
  {
   "cell_type": "code",
   "execution_count": null,
   "metadata": {},
   "outputs": [],
   "source": [
    "dateEncoder = DateEncoder(\n",
    "    timeOfDay = parameters['enc']['time']['timeOfDay'], # (30,1)\n",
    "    weekend = parameters[\"enc\"][\"time\"][\"weekend\"]) # 21\n",
    "\n",
    "scalarEncoderParams = RDSE_Parameters() # random distributed scalar encoder\n",
    "scalarEncoderParams.size       = parameters[\"enc\"][\"value\"][\"size\"] # 700\n",
    "scalarEncoderParams.sparsity   = parameters[\"enc\"][\"value\"][\"sparsity\"] # 0.02\n",
    "scalarEncoderParams.resolution = parameters[\"enc\"][\"value\"][\"resolution\"] # 0.88\n",
    "scalarEncoder = RDSE(scalarEncoderParams) # create the encoder\n",
    "\n",
    "encodingWidth = (dateEncoder.size + scalarEncoder.size*6) # since we're using the SEncoder 6 times\n",
    "enc_info = Metrics( [encodingWidth], 999999999) # performance metrics storage obj"
   ]
  },
  {
   "cell_type": "code",
   "execution_count": 10,
   "metadata": {},
   "outputs": [],
   "source": [
    "a = RDSE_Parameters()"
   ]
  },
  {
   "cell_type": "code",
   "execution_count": null,
   "metadata": {},
   "outputs": [],
   "source": []
  },
  {
   "cell_type": "code",
   "execution_count": null,
   "metadata": {},
   "outputs": [],
   "source": []
  },
  {
   "cell_type": "code",
   "execution_count": null,
   "metadata": {},
   "outputs": [],
   "source": []
  },
  {
   "cell_type": "code",
   "execution_count": null,
   "metadata": {},
   "outputs": [],
   "source": []
  },
  {
   "cell_type": "code",
   "execution_count": null,
   "metadata": {},
   "outputs": [],
   "source": []
  },
  {
   "cell_type": "code",
   "execution_count": null,
   "metadata": {},
   "outputs": [],
   "source": []
  }
 ],
 "metadata": {
  "kernelspec": {
   "display_name": "Python 3",
   "language": "python",
   "name": "python3"
  },
  "language_info": {
   "codemirror_mode": {
    "name": "ipython",
    "version": 3
   },
   "file_extension": ".py",
   "mimetype": "text/x-python",
   "name": "python",
   "nbconvert_exporter": "python",
   "pygments_lexer": "ipython3",
   "version": "3.7.4"
  },
  "toc": {
   "base_numbering": 1,
   "nav_menu": {},
   "number_sections": true,
   "sideBar": false,
   "skip_h1_title": false,
   "title_cell": "Table of Contents",
   "title_sidebar": "Contents",
   "toc_cell": true,
   "toc_position": {
    "height": "690.909px",
    "left": "1381.82px",
    "top": "53.423px",
    "width": "345.455px"
   },
   "toc_section_display": false,
   "toc_window_display": true
  }
 },
 "nbformat": 4,
 "nbformat_minor": 2
}
